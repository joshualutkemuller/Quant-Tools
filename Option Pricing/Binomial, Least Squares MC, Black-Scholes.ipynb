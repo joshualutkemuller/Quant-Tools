# The Binomial Option Pricing Model in Python 💾
<p>This is a simple model that is used to calculate the value of an option.  It breaks down the time expiration in steps to a potentially large amount of steps, which makes it virtually impossible to replicate in something like Excel.</p>
<p>Each step the underlying instrument will move up or down by a specific factor  Here is a <code>breakdown</code>:</p>
<ul>
<li>Choose a time step, <code>t</code>, which is the option's time, <code>T</code> divided by <code>N</code> intervals of length <code>t</code>.</li>

<p>Now, let's temporarily replace these missing value question marks with NaN.</p>
## European Option Theory

<ul>
<p> Remember, for European options, they can only be exercised on the day of expiration, which means valuing these types of options are easier than the American option version.

<p>The option value at expiration is:


- Call payoff=max(Sₜ
​
 −K,0)

 - Put payoff=max(K−Sₜ
​
 ,0)

<p>Where:
    <li>  Sₜ is the stock price at expiration
<li> K is the strike price

<p>
<p>Node specific valuation in the binomial tree:

Option Price = (1/R)((q x Option price if up) + ((1-q) x Option price if down)), where:
<li> R is the risk-free rate
<li> q is the risk-neutral probability given by:
<p>
<ul> q = (R-d)/(u-d)
## American Option Theory

<ul>
<p> Remember, American options can be exercised before expiration.  Therefore, at any node, the option value is the max of either the intrinsic value or the discounted EFV (expected future value):

<p>American Call Price:

- max(S-K, 1/R((q x Option price if up)+ ((1-q)x Option Price if down)))

<p>American Put Price:

- max(K-S, 1/R((q x Option price if up)+ ((1-q)x Option Price if down)))

<p> Remember, the American model price can be higher than the Euro option due to the fleixibility, but American call options
